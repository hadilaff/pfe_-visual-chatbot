{
 "cells": [
  {
   "cell_type": "code",
   "execution_count": 1,
   "metadata": {},
   "outputs": [],
   "source": [
    "import psycopg2"
   ]
  },
  {
   "cell_type": "code",
   "execution_count": 25,
   "metadata": {},
   "outputs": [],
   "source": [
    "import os\n"
   ]
  },
  {
   "cell_type": "code",
   "execution_count": 1,
   "metadata": {},
   "outputs": [
    {
     "ename": "NameError",
     "evalue": "name 'psycopg2' is not defined",
     "output_type": "error",
     "traceback": [
      "\u001b[0;31m---------------------------------------------------------------------------\u001b[0m",
      "\u001b[0;31mNameError\u001b[0m                                 Traceback (most recent call last)",
      "\u001b[1;32m/home/hadil/final/postgres.ipynb Cell 3'\u001b[0m in \u001b[0;36m<cell line: 5>\u001b[0;34m()\u001b[0m\n\u001b[1;32m      <a href='vscode-notebook-cell:/home/hadil/final/postgres.ipynb#ch0000002?line=2'>3</a>\u001b[0m DB_User\u001b[39m=\u001b[39m\u001b[39m'\u001b[39m\u001b[39mpostgres\u001b[39m\u001b[39m'\u001b[39m\n\u001b[1;32m      <a href='vscode-notebook-cell:/home/hadil/final/postgres.ipynb#ch0000002?line=3'>4</a>\u001b[0m DB_pass\u001b[39m=\u001b[39m\u001b[39m'\u001b[39m\u001b[39mhadil24\u001b[39m\u001b[39m'\u001b[39m\n\u001b[0;32m----> <a href='vscode-notebook-cell:/home/hadil/final/postgres.ipynb#ch0000002?line=4'>5</a>\u001b[0m connection \u001b[39m=\u001b[39m psycopg2\u001b[39m.\u001b[39mconnect(dbname\u001b[39m=\u001b[39mDB_Name,user\u001b[39m=\u001b[39mDB_User,password\u001b[39m=\u001b[39mDB_pass,host\u001b[39m=\u001b[39mDB_Host)\n\u001b[1;32m      <a href='vscode-notebook-cell:/home/hadil/final/postgres.ipynb#ch0000002?line=5'>6</a>\u001b[0m cursor\u001b[39m=\u001b[39mconnection\u001b[39m.\u001b[39mcursor()\n",
      "\u001b[0;31mNameError\u001b[0m: name 'psycopg2' is not defined"
     ]
    }
   ],
   "source": [
    "DB_Host='localhost'\n",
    "DB_Name='chatbot'\n",
    "DB_User='postgres'\n",
    "DB_pass='hadil24'\n"
   ]
  },
  {
   "cell_type": "code",
   "execution_count": 22,
   "metadata": {},
   "outputs": [],
   "source": [
    "connection = psycopg2.connect(dbname=DB_Name,user=DB_User,password=DB_pass,host=DB_Host)\n",
    "cursor=connection.cursor()"
   ]
  },
  {
   "cell_type": "code",
   "execution_count": 44,
   "metadata": {},
   "outputs": [
    {
     "name": "stdout",
     "output_type": "stream",
     "text": [
      "\n",
      "Displaying Entire Table product \n",
      "/home/hadil/final/anchor/hmgoepprod (7).jpg\n",
      "/home/hadil/final/anchor/hmgoepprod (5).jpg\n",
      "/home/hadil/final/anchor/hmgoepprod (4).jpg\n",
      "/home/hadil/final/anchor/Copie de hmgoepprod (31).jpg\n",
      "/home/hadil/final/anchor/hmgoepprod (20).jpg\n",
      "/home/hadil/final/anchor/hmgoepprod (20).jpg\n"
     ]
    }
   ],
   "source": [
    "print(\"\\nDisplaying Entire Table product \")\n",
    "cursor.execute(\"SELECT * FROM product;\")\n",
    "output=cursor.fetchall()\n",
    "for item in output:\n",
    "    print(item[7])"
   ]
  },
  {
   "cell_type": "code",
   "execution_count": 47,
   "metadata": {},
   "outputs": [
    {
     "name": "stdout",
     "output_type": "stream",
     "text": [
      "\n",
      "Displaying Entire Table product \n",
      "/home/hadil/final/anchor/hmgoepprod (7).jpg\n",
      "/home/hadil/final/anchor/hmgoepprod (5).jpg\n",
      "/home/hadil/final/anchor/hmgoepprod (4).jpg\n",
      "/home/hadil/final/anchor/Copie de hmgoepprod (31).jpg\n",
      "/home/hadil/final/anchor/hmgoepprod (20).jpg\n",
      "/home/hadil/final/anchor/hmgoepprod (20).jpg\n"
     ]
    },
    {
     "data": {
      "text/plain": [
       "'/home/hadil/final/anchor/hmgoepprod (5).jpg'"
      ]
     },
     "execution_count": 47,
     "metadata": {},
     "output_type": "execute_result"
    }
   ],
   "source": [
    "filenames=[]\n",
    "\n",
    "print(\"\\nDisplaying Entire Table product \")\n",
    "cursor.execute(\"SELECT * FROM product;\")\n",
    "output=cursor.fetchall()\n",
    "for item in output:\n",
    "    print(item[7])\n",
    "    filenames.append(item[7])\n",
    "filenames[]    "
   ]
  },
  {
   "cell_type": "code",
   "execution_count": 49,
   "metadata": {},
   "outputs": [
    {
     "ename": "NameError",
     "evalue": "name 'model' is not defined",
     "output_type": "error",
     "traceback": [
      "\u001b[0;31m---------------------------------------------------------------------------\u001b[0m",
      "\u001b[0;31mNameError\u001b[0m                                 Traceback (most recent call last)",
      "\u001b[1;32m/home/hadil/final/postgres.ipynb Cell 7'\u001b[0m in \u001b[0;36m<cell line: 12>\u001b[0;34m()\u001b[0m\n\u001b[1;32m     <a href='vscode-notebook-cell:/home/hadil/final/postgres.ipynb#ch0000011?line=9'>10</a>\u001b[0m feature_list \u001b[39m=\u001b[39m []\n\u001b[1;32m     <a href='vscode-notebook-cell:/home/hadil/final/postgres.ipynb#ch0000011?line=11'>12</a>\u001b[0m \u001b[39mfor\u001b[39;00m file \u001b[39min\u001b[39;00m (filenames):\n\u001b[0;32m---> <a href='vscode-notebook-cell:/home/hadil/final/postgres.ipynb#ch0000011?line=12'>13</a>\u001b[0m     feature_list\u001b[39m.\u001b[39mappend(extract_features(file,model))\n",
      "\u001b[0;31mNameError\u001b[0m: name 'model' is not defined"
     ]
    }
   ],
   "source": [
    "def extract_features(img_path,model):\n",
    "    img = image.load_img(img_path,target_size=(224,224)) #charger une img\n",
    "    img_array = image.img_to_array(img) #convertir en array\n",
    "    expanded_img_array = np.expand_dims(img_array, axis=0) #(1,224,224,3)\n",
    "    preprocessed_img = preprocess_input(expanded_img_array) #The images are converted from RGB to BGR, then each color channel is zero-centered with respect to the ImageNet dataset\n",
    "    result = model.predict(preprocessed_img).flatten()\n",
    "    normalized_result = result / norm(result)\n",
    "\n",
    "    return normalized_result\n",
    "feature_list = []\n",
    "\n",
    "for file in (filenames):\n",
    "    feature_list.append(extract_features(file,model))"
   ]
  },
  {
   "cell_type": "code",
   "execution_count": null,
   "metadata": {},
   "outputs": [],
   "source": []
  }
 ],
 "metadata": {
  "interpreter": {
   "hash": "916dbcbb3f70747c44a77c7bcd40155683ae19c65e1c03b4aa3499c5328201f1"
  },
  "kernelspec": {
   "display_name": "Python 3.8.10 64-bit",
   "language": "python",
   "name": "python3"
  },
  "language_info": {
   "codemirror_mode": {
    "name": "ipython",
    "version": 3
   },
   "file_extension": ".py",
   "mimetype": "text/x-python",
   "name": "python",
   "nbconvert_exporter": "python",
   "pygments_lexer": "ipython3",
   "version": "3.8.10"
  },
  "orig_nbformat": 4
 },
 "nbformat": 4,
 "nbformat_minor": 2
}
