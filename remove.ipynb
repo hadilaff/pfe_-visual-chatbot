{
 "cells": [
  {
   "cell_type": "code",
   "execution_count": null,
   "metadata": {},
   "outputs": [],
   "source": [
    "#remove skin from product images\n",
    "# file: save_ckp_frozen.h5 remove skin model"
   ]
  },
  {
   "cell_type": "code",
   "execution_count": 1,
   "metadata": {},
   "outputs": [],
   "source": [
    "import cv2\n",
    "import numpy as np\n",
    "from tensorflow.keras.models import load_model\n",
    "import tensorflow as tf\n",
    "import sys\n",
    "from tensorflow.compat.v1 import ConfigProto\n",
    "from tensorflow.compat.v1 import InteractiveSession\n",
    "\n",
    "#config = ConfigProto(device_count={'GPU':0,'CPU':1})\n",
    "config.gpu_options.allow_growth = True\n",
    "session = InteractiveSession(config=config)\n"
   ]
  },
  {
   "cell_type": "code",
   "execution_count": 2,
   "metadata": {},
   "outputs": [
    {
     "name": "stderr",
     "output_type": "stream",
     "text": [
      "2022-05-18 00:04:32.771167: I tensorflow/core/platform/cpu_feature_guard.cc:193] This TensorFlow binary is optimized with oneAPI Deep Neural Network Library (oneDNN) to use the following CPU instructions in performance-critical operations:  AVX2 FMA\n",
      "To enable them in other operations, rebuild TensorFlow with the appropriate compiler flags.\n"
     ]
    }
   ],
   "source": [
    "f = sys.argv[1]\n",
    "saved = load_model(\"/home/hadil/final/save_ckp_frozen.h5\")"
   ]
  },
  {
   "cell_type": "code",
   "execution_count": 5,
   "metadata": {},
   "outputs": [],
   "source": [
    "class fashion_tools(object):\n",
    "    def __init__(self,imageid,model,version=1.1):\n",
    "        self.imageid = imageid\n",
    "        self.model   = model\n",
    "        self.version = version\n",
    "        \n",
    "    def get_dress(self,stack=False):\n",
    "        \"\"\"limited to top wear and full body dresses (wild and studio working)\"\"\"\n",
    "        \"\"\"takes input rgb----> return PNG\"\"\"\n",
    "        name =  self.imageid\n",
    "        file = cv2.imread(\"/home/hadil/final/hmgoepprod.jpeg\")\n",
    "        file = tf.image.resize_with_pad(file,target_height=512,target_width=512)  #Redimensionne et remplit une image à une largeur et une hauteur cibles.\n",
    "        rgb  = file.numpy()\n",
    "        file = np.expand_dims(file,axis=0)/ 255\n",
    "        seq = self.model.predict(file)\n",
    "        seq = seq[3][0,:,:,0]\n",
    "        seq = np.expand_dims(seq,axis=-1)\n",
    "        c1x = rgb*seq\n",
    "        c2x = rgb*(1-seq)\n",
    "        \n",
    "        cfx = c1x+c2x\n",
    "        dummy = np.ones((rgb.shape[0],rgb.shape[1],1))\n",
    "        #rgbx = np.concatenate((rgb,dummy*255),axis=-1)\n",
    "        rgbs = np.concatenate((cfx,seq*255.),axis=-1)\n",
    "        if stack:\n",
    "            #stacked = np.hstack((rgbs,rgbs))\n",
    "            stacked=rgbs\n",
    "            return stacked\n",
    "        else:\n",
    "            return rgbs\n",
    "        \n",
    "        \n",
    "    def get_patch(self):\n",
    "        return None\n"
   ]
  },
  {
   "cell_type": "code",
   "execution_count": 6,
   "metadata": {},
   "outputs": [
    {
     "name": "stdout",
     "output_type": "stream",
     "text": [
      "1/1 [==============================] - 2s 2s/step\n"
     ]
    },
    {
     "data": {
      "text/plain": [
       "-1"
      ]
     },
     "execution_count": 6,
     "metadata": {},
     "output_type": "execute_result"
    }
   ],
   "source": [
    "api    = fashion_tools(f,saved)\n",
    "image_ = api.get_dress(stack=True)\n",
    "cv2.imshow('image_',image_)\n",
    "cv2.imwrite('xc.jpg',image_)\n",
    "cv2.waitKey(0)"
   ]
  }
 ],
 "metadata": {
  "interpreter": {
   "hash": "916dbcbb3f70747c44a77c7bcd40155683ae19c65e1c03b4aa3499c5328201f1"
  },
  "kernelspec": {
   "display_name": "Python 3.8.10 64-bit",
   "language": "python",
   "name": "python3"
  },
  "language_info": {
   "codemirror_mode": {
    "name": "ipython",
    "version": 3
   },
   "file_extension": ".py",
   "mimetype": "text/x-python",
   "name": "python",
   "nbconvert_exporter": "python",
   "pygments_lexer": "ipython3",
   "version": "3.8.10"
  },
  "orig_nbformat": 4
 },
 "nbformat": 4,
 "nbformat_minor": 2
}
